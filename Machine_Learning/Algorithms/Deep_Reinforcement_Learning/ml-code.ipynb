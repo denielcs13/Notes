{
 "cells": [
  {
   "cell_type": "code",
   "execution_count": 1,
   "metadata": {},
   "outputs": [],
   "source": [
    "import numpy as np\n",
    "import random"
   ]
  },
  {
   "cell_type": "code",
   "execution_count": 2,
   "metadata": {},
   "outputs": [
    {
     "name": "stdout",
     "output_type": "stream",
     "text": [
      "q=\n",
      "[[ 0.  0.  0.  0.  0.  0.]\n",
      " [ 0.  0.  0.  0.  0.  0.]\n",
      " [ 0.  0.  0.  0.  0.  0.]\n",
      " [ 0.  0.  0.  0.  0.  0.]\n",
      " [ 0.  0.  0.  0.  0.  0.]\n",
      " [ 0.  0.  0.  0.  0.  0.]]\n",
      "\n",
      "r=\n",
      "[[ -1  -1  -1  -1   0  -1]\n",
      " [ -1  -1  -1   0  -1 100]\n",
      " [ -1  -1  -1   0  -1  -1]\n",
      " [ -1   0   0  -1   0  -1]\n",
      " [  0  -1  -1   0  -1 100]\n",
      " [ -1   0  -1  -1   0 100]]\n",
      "\n",
      "gamma= 0.8\n"
     ]
    }
   ],
   "source": [
    "q = np.zeros([6,6])\n",
    "r = np.array([[-1,-1,-1,-1,0,-1],\n",
    "            [-1,-1,-1,0,-1,100],\n",
    "            [-1,-1,-1,0,-1,-1],\n",
    "            [-1,0,0,-1,0,-1],\n",
    "            [0,-1,-1,0,-1,100],\n",
    "            [-1,0,-1,-1,0,100],\n",
    "           ])\n",
    "print('q=', q, '', 'r=', r, sep='\\n')\n",
    "gamma = 0.8\n",
    "print('\\ngamma=', gamma)"
   ]
  },
  {
   "cell_type": "code",
   "execution_count": 3,
   "metadata": {
    "collapsed": true
   },
   "outputs": [],
   "source": [
    "def randomly_select_act(state):\n",
    "    # Randomly select a positive return action\n",
    "    flag = True\n",
    "    while flag:\n",
    "        action = np.random.randint(0, 6)\n",
    "        if r[state, action] >= 0:\n",
    "            flag = False\n",
    "    return action\n",
    "\n",
    "def greedly_select_act(state):\n",
    "    # Greedy choose the next action\n",
    "    actions = list(q[state, :])\n",
    "    max_q = max(actions)\n",
    "    max_actioin_index = list()\n",
    "    for i, act in enumerate(actions):\n",
    "        if act >= max_q:\n",
    "            max_actioin_index.append(i)\n",
    "    return random.sample(max_actioin_index, 1)[0]\n",
    "\n",
    "def e_greedy(state, e):\n",
    "    if random.random() < e:\n",
    "        return greedly_select_act(state)\n",
    "    else:\n",
    "        return randomly_select_act(state)"
   ]
  },
  {
   "cell_type": "code",
   "execution_count": 4,
   "metadata": {},
   "outputs": [
    {
     "name": "stdout",
     "output_type": "stream",
     "text": [
      "ϵ: 1\n",
      "This epoch movement path：\n",
      "1, 5, \n",
      " [[   0.    0.    0.    0.    0.    0.]\n",
      " [   0.    0.    0.    0.    0.  100.]\n",
      " [   0.    0.    0.    0.    0.    0.]\n",
      " [   0.    0.    0.    0.    0.    0.]\n",
      " [   0.    0.    0.    0.    0.    0.]\n",
      " [   0.    0.    0.    0.    0.    0.]]\n"
     ]
    }
   ],
   "source": [
    "epsilon = 1\n",
    "print('ϵ:', epsilon)\n",
    "\n",
    "print(\"This epoch movement path：\")\n",
    "state = np.random.randint(0,6)\n",
    "\n",
    "for i in range(200):\n",
    "    print(state, end=', ')\n",
    "    if state == 5:\n",
    "        break\n",
    "    action = e_greedy(state, epsilon)\n",
    "    action = randomly_select_act(state)\n",
    "    \n",
    "    q[state, action] = round(r[state, action] + gamma * max(q[action, :]))\n",
    "    state = action\n",
    "\n",
    "# 一个episode：\n",
    "print('\\n',q)"
   ]
  },
  {
   "cell_type": "code",
   "execution_count": 5,
   "metadata": {},
   "outputs": [
    {
     "name": "stdout",
     "output_type": "stream",
     "text": [
      "Please enter the integer initial state（0-5）：2\n",
      "Walking path is：\n",
      "2, 4, 1, 5, "
     ]
    }
   ],
   "source": [
    "state = input('Please enter the integer initial state（0-5）：')\n",
    "assert int(state) >= 0 and int(state) <= 5, 'Please enter the integer initial state（0-5）'\n",
    "state = int(state)\n",
    "print('Walking path is：')\n",
    "for i in range(200):\n",
    "    print(state, end=', ')\n",
    "    if state == 5:\n",
    "        break\n",
    "    action = greedly_select_act(state)\n",
    "    state = action"
   ]
  },
  {
   "cell_type": "code",
   "execution_count": null,
   "metadata": {
    "collapsed": true
   },
   "outputs": [],
   "source": []
  }
 ],
 "metadata": {
  "kernelspec": {
   "display_name": "Python 3",
   "language": "python",
   "name": "python3"
  },
  "language_info": {
   "codemirror_mode": {
    "name": "ipython",
    "version": 3
   },
   "file_extension": ".py",
   "mimetype": "text/x-python",
   "name": "python",
   "nbconvert_exporter": "python",
   "pygments_lexer": "ipython3",
   "version": "3.6.3"
  }
 },
 "nbformat": 4,
 "nbformat_minor": 2
}
